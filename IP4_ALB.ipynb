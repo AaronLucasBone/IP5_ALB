{
 "cells": [
  {
   "cell_type": "markdown",
   "metadata": {},
   "source": [
    "# Author: Aaron Bone\n",
    "\n",
    "Version: 1.0\n",
    "\n",
    "Semester: Spring 2021\n",
    "\n",
    "Summary:\n",
    "\n",
    "In this project we explore an independently found dataset in order to utilize tools learned previously in class. This dataset goes over the future 50 independent restaurants predicted by 2019."
   ]
  },
  {
   "cell_type": "code",
   "execution_count": 172,
   "metadata": {},
   "outputs": [],
   "source": [
    "import pandas as pd\n",
    "import numpy as np\n",
    "import matplotlib.pyplot as plt\n",
    "import seaborn as sns\n",
    "%matplotlib inline"
   ]
  },
  {
   "cell_type": "markdown",
   "metadata": {},
   "source": [
    "First Steps"
   ]
  },
  {
   "cell_type": "code",
   "execution_count": 173,
   "metadata": {},
   "outputs": [
    {
     "data": {
      "text/html": [
       "<div>\n",
       "<style scoped>\n",
       "    .dataframe tbody tr th:only-of-type {\n",
       "        vertical-align: middle;\n",
       "    }\n",
       "\n",
       "    .dataframe tbody tr th {\n",
       "        vertical-align: top;\n",
       "    }\n",
       "\n",
       "    .dataframe thead th {\n",
       "        text-align: right;\n",
       "    }\n",
       "</style>\n",
       "<table border=\"1\" class=\"dataframe\">\n",
       "  <thead>\n",
       "    <tr style=\"text-align: right;\">\n",
       "      <th></th>\n",
       "      <th>Rank</th>\n",
       "      <th>Restaurant</th>\n",
       "      <th>Location</th>\n",
       "      <th>Sales</th>\n",
       "      <th>YOY_Sales</th>\n",
       "      <th>Units</th>\n",
       "      <th>YOY_Units</th>\n",
       "      <th>Unit_Volume</th>\n",
       "      <th>Franchising</th>\n",
       "    </tr>\n",
       "  </thead>\n",
       "  <tbody>\n",
       "    <tr>\n",
       "      <th>0</th>\n",
       "      <td>1</td>\n",
       "      <td>Evergreens</td>\n",
       "      <td>Seattle, Wash.</td>\n",
       "      <td>24</td>\n",
       "      <td>130.5%</td>\n",
       "      <td>26</td>\n",
       "      <td>116.7%</td>\n",
       "      <td>1150</td>\n",
       "      <td>No</td>\n",
       "    </tr>\n",
       "    <tr>\n",
       "      <th>1</th>\n",
       "      <td>2</td>\n",
       "      <td>Clean Juice</td>\n",
       "      <td>Charlotte, N.C.</td>\n",
       "      <td>44</td>\n",
       "      <td>121.9%</td>\n",
       "      <td>105</td>\n",
       "      <td>94.4%</td>\n",
       "      <td>560</td>\n",
       "      <td>Yes</td>\n",
       "    </tr>\n",
       "    <tr>\n",
       "      <th>2</th>\n",
       "      <td>3</td>\n",
       "      <td>Slapfish</td>\n",
       "      <td>Huntington Beach, Calif.</td>\n",
       "      <td>21</td>\n",
       "      <td>81.0%</td>\n",
       "      <td>21</td>\n",
       "      <td>90.9%</td>\n",
       "      <td>1370</td>\n",
       "      <td>Yes</td>\n",
       "    </tr>\n",
       "    <tr>\n",
       "      <th>3</th>\n",
       "      <td>4</td>\n",
       "      <td>Clean Eatz</td>\n",
       "      <td>Wilmington, N.C.</td>\n",
       "      <td>25</td>\n",
       "      <td>79.7%</td>\n",
       "      <td>46</td>\n",
       "      <td>58.6%</td>\n",
       "      <td>685</td>\n",
       "      <td>Yes</td>\n",
       "    </tr>\n",
       "    <tr>\n",
       "      <th>4</th>\n",
       "      <td>5</td>\n",
       "      <td>Pokeworks</td>\n",
       "      <td>Irvine, Calif.</td>\n",
       "      <td>49</td>\n",
       "      <td>77.1%</td>\n",
       "      <td>50</td>\n",
       "      <td>56.3%</td>\n",
       "      <td>1210</td>\n",
       "      <td>Yes</td>\n",
       "    </tr>\n",
       "  </tbody>\n",
       "</table>\n",
       "</div>"
      ],
      "text/plain": [
       "   Rank   Restaurant                  Location  Sales YOY_Sales  Units  \\\n",
       "0     1   Evergreens            Seattle, Wash.     24    130.5%     26   \n",
       "1     2  Clean Juice           Charlotte, N.C.     44    121.9%    105   \n",
       "2     3     Slapfish  Huntington Beach, Calif.     21     81.0%     21   \n",
       "3     4   Clean Eatz          Wilmington, N.C.     25     79.7%     46   \n",
       "4     5    Pokeworks            Irvine, Calif.     49     77.1%     50   \n",
       "\n",
       "  YOY_Units  Unit_Volume Franchising  \n",
       "0    116.7%         1150          No  \n",
       "1     94.4%          560         Yes  \n",
       "2     90.9%         1370         Yes  \n",
       "3     58.6%          685         Yes  \n",
       "4     56.3%         1210         Yes  "
      ]
     },
     "execution_count": 173,
     "metadata": {},
     "output_type": "execute_result"
    }
   ],
   "source": [
    "f50 = pd.read_csv(\"Future50.csv\")\n",
    "df.head()"
   ]
  },
  {
   "cell_type": "markdown",
   "metadata": {},
   "source": [
    "Lets do a check to see how much data is missing."
   ]
  },
  {
   "cell_type": "code",
   "execution_count": 174,
   "metadata": {},
   "outputs": [
    {
     "data": {
      "text/plain": [
       "<AxesSubplot:>"
      ]
     },
     "execution_count": 174,
     "metadata": {},
     "output_type": "execute_result"
    },
    {
     "data": {
      "image/png": "[encoded data removed]",
      "text/plain": [
       "<Figure size 1656x360 with 3 Axes>"
      ]
     },
     "metadata": {
      "needs_background": "light"
     },
     "output_type": "display_data"
    }
   ],
   "source": [
    "fig, ax = plt.subplots(1,2, figsize=(23,5))\n",
    "sns.heatmap(f50.isnull(), ax=ax[0])"
   ]
  },
  {
   "cell_type": "code",
   "execution_count": 175,
   "metadata": {},
   "outputs": [
    {
     "data": {
      "text/html": [
       "<div>\n",
       "<style scoped>\n",
       "    .dataframe tbody tr th:only-of-type {\n",
       "        vertical-align: middle;\n",
       "    }\n",
       "\n",
       "    .dataframe tbody tr th {\n",
       "        vertical-align: top;\n",
       "    }\n",
       "\n",
       "    .dataframe thead th {\n",
       "        text-align: right;\n",
       "    }\n",
       "</style>\n",
       "<table border=\"1\" class=\"dataframe\">\n",
       "  <thead>\n",
       "    <tr style=\"text-align: right;\">\n",
       "      <th></th>\n",
       "      <th>Rank</th>\n",
       "      <th>Restaurant</th>\n",
       "      <th>Location</th>\n",
       "      <th>Sales</th>\n",
       "      <th>YOY_Sales</th>\n",
       "      <th>Units</th>\n",
       "      <th>YOY_Units</th>\n",
       "      <th>Unit_Volume</th>\n",
       "      <th>Franchising</th>\n",
       "    </tr>\n",
       "  </thead>\n",
       "  <tbody>\n",
       "    <tr>\n",
       "      <th>0</th>\n",
       "      <td>1</td>\n",
       "      <td>Evergreens</td>\n",
       "      <td>Seattle, Wash.</td>\n",
       "      <td>24</td>\n",
       "      <td>130.5%</td>\n",
       "      <td>26</td>\n",
       "      <td>116.7%</td>\n",
       "      <td>1150</td>\n",
       "      <td>No</td>\n",
       "    </tr>\n",
       "    <tr>\n",
       "      <th>1</th>\n",
       "      <td>2</td>\n",
       "      <td>Clean Juice</td>\n",
       "      <td>Charlotte, N.C.</td>\n",
       "      <td>44</td>\n",
       "      <td>121.9%</td>\n",
       "      <td>105</td>\n",
       "      <td>94.4%</td>\n",
       "      <td>560</td>\n",
       "      <td>Yes</td>\n",
       "    </tr>\n",
       "    <tr>\n",
       "      <th>2</th>\n",
       "      <td>3</td>\n",
       "      <td>Slapfish</td>\n",
       "      <td>Huntington Beach, Calif.</td>\n",
       "      <td>21</td>\n",
       "      <td>81.0%</td>\n",
       "      <td>21</td>\n",
       "      <td>90.9%</td>\n",
       "      <td>1370</td>\n",
       "      <td>Yes</td>\n",
       "    </tr>\n",
       "    <tr>\n",
       "      <th>3</th>\n",
       "      <td>4</td>\n",
       "      <td>Clean Eatz</td>\n",
       "      <td>Wilmington, N.C.</td>\n",
       "      <td>25</td>\n",
       "      <td>79.7%</td>\n",
       "      <td>46</td>\n",
       "      <td>58.6%</td>\n",
       "      <td>685</td>\n",
       "      <td>Yes</td>\n",
       "    </tr>\n",
       "    <tr>\n",
       "      <th>4</th>\n",
       "      <td>5</td>\n",
       "      <td>Pokeworks</td>\n",
       "      <td>Irvine, Calif.</td>\n",
       "      <td>49</td>\n",
       "      <td>77.1%</td>\n",
       "      <td>50</td>\n",
       "      <td>56.3%</td>\n",
       "      <td>1210</td>\n",
       "      <td>Yes</td>\n",
       "    </tr>\n",
       "  </tbody>\n",
       "</table>\n",
       "</div>"
      ],
      "text/plain": [
       "   Rank   Restaurant                  Location  Sales YOY_Sales  Units  \\\n",
       "0     1   Evergreens            Seattle, Wash.     24    130.5%     26   \n",
       "1     2  Clean Juice           Charlotte, N.C.     44    121.9%    105   \n",
       "2     3     Slapfish  Huntington Beach, Calif.     21     81.0%     21   \n",
       "3     4   Clean Eatz          Wilmington, N.C.     25     79.7%     46   \n",
       "4     5    Pokeworks            Irvine, Calif.     49     77.1%     50   \n",
       "\n",
       "  YOY_Units  Unit_Volume Franchising  \n",
       "0    116.7%         1150          No  \n",
       "1     94.4%          560         Yes  \n",
       "2     90.9%         1370         Yes  \n",
       "3     58.6%          685         Yes  \n",
       "4     56.3%         1210         Yes  "
      ]
     },
     "execution_count": 175,
     "metadata": {},
     "output_type": "execute_result"
    }
   ],
   "source": [
    "f50.head(5)"
   ]
  },
  {
   "cell_type": "markdown",
   "metadata": {},
   "source": [
    "We're going to clean this dataset by removing the special characters from YOY_Sales and YOY_Units"
   ]
  },
  {
   "cell_type": "code",
   "execution_count": 176,
   "metadata": {},
   "outputs": [
    {
     "data": {
      "text/html": [
       "<div>\n",
       "<style scoped>\n",
       "    .dataframe tbody tr th:only-of-type {\n",
       "        vertical-align: middle;\n",
       "    }\n",
       "\n",
       "    .dataframe tbody tr th {\n",
       "        vertical-align: top;\n",
       "    }\n",
       "\n",
       "    .dataframe thead th {\n",
       "        text-align: right;\n",
       "    }\n",
       "</style>\n",
       "<table border=\"1\" class=\"dataframe\">\n",
       "  <thead>\n",
       "    <tr style=\"text-align: right;\">\n",
       "      <th></th>\n",
       "      <th>Rank</th>\n",
       "      <th>Restaurant</th>\n",
       "      <th>Location</th>\n",
       "      <th>Sales</th>\n",
       "      <th>YOY_Sales (%)</th>\n",
       "      <th>Units</th>\n",
       "      <th>YOY_Units (%)</th>\n",
       "      <th>Unit_Volume</th>\n",
       "      <th>Franchising</th>\n",
       "    </tr>\n",
       "  </thead>\n",
       "  <tbody>\n",
       "    <tr>\n",
       "      <th>0</th>\n",
       "      <td>1</td>\n",
       "      <td>Evergreens</td>\n",
       "      <td>Seattle, Wash.</td>\n",
       "      <td>24</td>\n",
       "      <td>130.5</td>\n",
       "      <td>26</td>\n",
       "      <td>116.7</td>\n",
       "      <td>1150</td>\n",
       "      <td>No</td>\n",
       "    </tr>\n",
       "    <tr>\n",
       "      <th>1</th>\n",
       "      <td>2</td>\n",
       "      <td>Clean Juice</td>\n",
       "      <td>Charlotte, N.C.</td>\n",
       "      <td>44</td>\n",
       "      <td>121.9</td>\n",
       "      <td>105</td>\n",
       "      <td>94.4</td>\n",
       "      <td>560</td>\n",
       "      <td>Yes</td>\n",
       "    </tr>\n",
       "    <tr>\n",
       "      <th>2</th>\n",
       "      <td>3</td>\n",
       "      <td>Slapfish</td>\n",
       "      <td>Huntington Beach, Calif.</td>\n",
       "      <td>21</td>\n",
       "      <td>81.0</td>\n",
       "      <td>21</td>\n",
       "      <td>90.9</td>\n",
       "      <td>1370</td>\n",
       "      <td>Yes</td>\n",
       "    </tr>\n",
       "    <tr>\n",
       "      <th>3</th>\n",
       "      <td>4</td>\n",
       "      <td>Clean Eatz</td>\n",
       "      <td>Wilmington, N.C.</td>\n",
       "      <td>25</td>\n",
       "      <td>79.7</td>\n",
       "      <td>46</td>\n",
       "      <td>58.6</td>\n",
       "      <td>685</td>\n",
       "      <td>Yes</td>\n",
       "    </tr>\n",
       "    <tr>\n",
       "      <th>4</th>\n",
       "      <td>5</td>\n",
       "      <td>Pokeworks</td>\n",
       "      <td>Irvine, Calif.</td>\n",
       "      <td>49</td>\n",
       "      <td>77.1</td>\n",
       "      <td>50</td>\n",
       "      <td>56.3</td>\n",
       "      <td>1210</td>\n",
       "      <td>Yes</td>\n",
       "    </tr>\n",
       "  </tbody>\n",
       "</table>\n",
       "</div>"
      ],
      "text/plain": [
       "   Rank   Restaurant                  Location  Sales  YOY_Sales (%)  Units  \\\n",
       "0     1   Evergreens            Seattle, Wash.     24          130.5     26   \n",
       "1     2  Clean Juice           Charlotte, N.C.     44          121.9    105   \n",
       "2     3     Slapfish  Huntington Beach, Calif.     21           81.0     21   \n",
       "3     4   Clean Eatz          Wilmington, N.C.     25           79.7     46   \n",
       "4     5    Pokeworks            Irvine, Calif.     49           77.1     50   \n",
       "\n",
       "   YOY_Units (%)  Unit_Volume Franchising  \n",
       "0          116.7         1150          No  \n",
       "1           94.4          560         Yes  \n",
       "2           90.9         1370         Yes  \n",
       "3           58.6          685         Yes  \n",
       "4           56.3         1210         Yes  "
      ]
     },
     "execution_count": 176,
     "metadata": {},
     "output_type": "execute_result"
    }
   ],
   "source": [
    "f50['YOY_Sales'] = f50['YOY_Sales'].str.replace('%', '').astype(float)\n",
    "f50['YOY_Units'] = f50['YOY_Units'].str.replace('%', '').astype(float)\n",
    "f50.rename(columns={'YOY_Sales':'YOY_Sales (%)', 'YOY_Units':'YOY_Units (%)'}, inplace=True)\n",
    "f50.head(5)"
   ]
  },
  {
   "cell_type": "markdown",
   "metadata": {},
   "source": [
    "We can also seperate the Location column into 2 new columns, \"City\" and \"State\""
   ]
  },
  {
   "cell_type": "code",
   "execution_count": 177,
   "metadata": {},
   "outputs": [
    {
     "data": {
      "text/html": [
       "<div>\n",
       "<style scoped>\n",
       "    .dataframe tbody tr th:only-of-type {\n",
       "        vertical-align: middle;\n",
       "    }\n",
       "\n",
       "    .dataframe tbody tr th {\n",
       "        vertical-align: top;\n",
       "    }\n",
       "\n",
       "    .dataframe thead th {\n",
       "        text-align: right;\n",
       "    }\n",
       "</style>\n",
       "<table border=\"1\" class=\"dataframe\">\n",
       "  <thead>\n",
       "    <tr style=\"text-align: right;\">\n",
       "      <th></th>\n",
       "      <th>Rank</th>\n",
       "      <th>Restaurant</th>\n",
       "      <th>Sales</th>\n",
       "      <th>YOY_Sales (%)</th>\n",
       "      <th>Units</th>\n",
       "      <th>YOY_Units (%)</th>\n",
       "      <th>Unit_Volume</th>\n",
       "      <th>Franchising</th>\n",
       "      <th>City</th>\n",
       "      <th>State</th>\n",
       "    </tr>\n",
       "  </thead>\n",
       "  <tbody>\n",
       "    <tr>\n",
       "      <th>0</th>\n",
       "      <td>1</td>\n",
       "      <td>Evergreens</td>\n",
       "      <td>24</td>\n",
       "      <td>130.5</td>\n",
       "      <td>26</td>\n",
       "      <td>116.7</td>\n",
       "      <td>1150</td>\n",
       "      <td>No</td>\n",
       "      <td>Seattle</td>\n",
       "      <td>Wash.</td>\n",
       "    </tr>\n",
       "    <tr>\n",
       "      <th>1</th>\n",
       "      <td>2</td>\n",
       "      <td>Clean Juice</td>\n",
       "      <td>44</td>\n",
       "      <td>121.9</td>\n",
       "      <td>105</td>\n",
       "      <td>94.4</td>\n",
       "      <td>560</td>\n",
       "      <td>Yes</td>\n",
       "      <td>Charlotte</td>\n",
       "      <td>N.C.</td>\n",
       "    </tr>\n",
       "    <tr>\n",
       "      <th>2</th>\n",
       "      <td>3</td>\n",
       "      <td>Slapfish</td>\n",
       "      <td>21</td>\n",
       "      <td>81.0</td>\n",
       "      <td>21</td>\n",
       "      <td>90.9</td>\n",
       "      <td>1370</td>\n",
       "      <td>Yes</td>\n",
       "      <td>Huntington Beach</td>\n",
       "      <td>Calif.</td>\n",
       "    </tr>\n",
       "    <tr>\n",
       "      <th>3</th>\n",
       "      <td>4</td>\n",
       "      <td>Clean Eatz</td>\n",
       "      <td>25</td>\n",
       "      <td>79.7</td>\n",
       "      <td>46</td>\n",
       "      <td>58.6</td>\n",
       "      <td>685</td>\n",
       "      <td>Yes</td>\n",
       "      <td>Wilmington</td>\n",
       "      <td>N.C.</td>\n",
       "    </tr>\n",
       "    <tr>\n",
       "      <th>4</th>\n",
       "      <td>5</td>\n",
       "      <td>Pokeworks</td>\n",
       "      <td>49</td>\n",
       "      <td>77.1</td>\n",
       "      <td>50</td>\n",
       "      <td>56.3</td>\n",
       "      <td>1210</td>\n",
       "      <td>Yes</td>\n",
       "      <td>Irvine</td>\n",
       "      <td>Calif.</td>\n",
       "    </tr>\n",
       "  </tbody>\n",
       "</table>\n",
       "</div>"
      ],
      "text/plain": [
       "   Rank   Restaurant  Sales  YOY_Sales (%)  Units  YOY_Units (%)  Unit_Volume  \\\n",
       "0     1   Evergreens     24          130.5     26          116.7         1150   \n",
       "1     2  Clean Juice     44          121.9    105           94.4          560   \n",
       "2     3     Slapfish     21           81.0     21           90.9         1370   \n",
       "3     4   Clean Eatz     25           79.7     46           58.6          685   \n",
       "4     5    Pokeworks     49           77.1     50           56.3         1210   \n",
       "\n",
       "  Franchising              City   State  \n",
       "0          No           Seattle   Wash.  \n",
       "1         Yes         Charlotte    N.C.  \n",
       "2         Yes  Huntington Beach  Calif.  \n",
       "3         Yes        Wilmington    N.C.  \n",
       "4         Yes            Irvine  Calif.  "
      ]
     },
     "execution_count": 177,
     "metadata": {},
     "output_type": "execute_result"
    }
   ],
   "source": [
    "f50['City'] = f50['Location'].str.split(',', expand=True)[0].str.strip()\n",
    "f50['State'] = f50['Location'].str.split(',', expand=True)[1].str.strip()\n",
    "f50.drop(['Location'], axis=1, inplace=True)\n",
    "f50.head(5)"
   ]
  },
  {
   "cell_type": "markdown",
   "metadata": {},
   "source": [
    "Oh, by the way Joella's Hot Chicken in town is actually on this list, #10."
   ]
  },
  {
   "cell_type": "code",
   "execution_count": 178,
   "metadata": {},
   "outputs": [
    {
     "data": {
      "text/html": [
       "<div>\n",
       "<style scoped>\n",
       "    .dataframe tbody tr th:only-of-type {\n",
       "        vertical-align: middle;\n",
       "    }\n",
       "\n",
       "    .dataframe tbody tr th {\n",
       "        vertical-align: top;\n",
       "    }\n",
       "\n",
       "    .dataframe thead th {\n",
       "        text-align: right;\n",
       "    }\n",
       "</style>\n",
       "<table border=\"1\" class=\"dataframe\">\n",
       "  <thead>\n",
       "    <tr style=\"text-align: right;\">\n",
       "      <th></th>\n",
       "      <th>Rank</th>\n",
       "      <th>Restaurant</th>\n",
       "      <th>Sales</th>\n",
       "      <th>YOY_Sales (%)</th>\n",
       "      <th>Units</th>\n",
       "      <th>YOY_Units (%)</th>\n",
       "      <th>Unit_Volume</th>\n",
       "      <th>Franchising</th>\n",
       "      <th>City</th>\n",
       "      <th>State</th>\n",
       "    </tr>\n",
       "  </thead>\n",
       "  <tbody>\n",
       "    <tr>\n",
       "      <th>0</th>\n",
       "      <td>1</td>\n",
       "      <td>Evergreens</td>\n",
       "      <td>24</td>\n",
       "      <td>130.5</td>\n",
       "      <td>26</td>\n",
       "      <td>116.7</td>\n",
       "      <td>1150</td>\n",
       "      <td>No</td>\n",
       "      <td>Seattle</td>\n",
       "      <td>Wash.</td>\n",
       "    </tr>\n",
       "    <tr>\n",
       "      <th>1</th>\n",
       "      <td>2</td>\n",
       "      <td>Clean Juice</td>\n",
       "      <td>44</td>\n",
       "      <td>121.9</td>\n",
       "      <td>105</td>\n",
       "      <td>94.4</td>\n",
       "      <td>560</td>\n",
       "      <td>Yes</td>\n",
       "      <td>Charlotte</td>\n",
       "      <td>N.C.</td>\n",
       "    </tr>\n",
       "    <tr>\n",
       "      <th>2</th>\n",
       "      <td>3</td>\n",
       "      <td>Slapfish</td>\n",
       "      <td>21</td>\n",
       "      <td>81.0</td>\n",
       "      <td>21</td>\n",
       "      <td>90.9</td>\n",
       "      <td>1370</td>\n",
       "      <td>Yes</td>\n",
       "      <td>Huntington Beach</td>\n",
       "      <td>Calif.</td>\n",
       "    </tr>\n",
       "    <tr>\n",
       "      <th>3</th>\n",
       "      <td>4</td>\n",
       "      <td>Clean Eatz</td>\n",
       "      <td>25</td>\n",
       "      <td>79.7</td>\n",
       "      <td>46</td>\n",
       "      <td>58.6</td>\n",
       "      <td>685</td>\n",
       "      <td>Yes</td>\n",
       "      <td>Wilmington</td>\n",
       "      <td>N.C.</td>\n",
       "    </tr>\n",
       "    <tr>\n",
       "      <th>4</th>\n",
       "      <td>5</td>\n",
       "      <td>Pokeworks</td>\n",
       "      <td>49</td>\n",
       "      <td>77.1</td>\n",
       "      <td>50</td>\n",
       "      <td>56.3</td>\n",
       "      <td>1210</td>\n",
       "      <td>Yes</td>\n",
       "      <td>Irvine</td>\n",
       "      <td>Calif.</td>\n",
       "    </tr>\n",
       "    <tr>\n",
       "      <th>5</th>\n",
       "      <td>6</td>\n",
       "      <td>Playa Bowls</td>\n",
       "      <td>39</td>\n",
       "      <td>62.9</td>\n",
       "      <td>76</td>\n",
       "      <td>28.8</td>\n",
       "      <td>580</td>\n",
       "      <td>Yes</td>\n",
       "      <td>Belmar</td>\n",
       "      <td>N.J.</td>\n",
       "    </tr>\n",
       "    <tr>\n",
       "      <th>6</th>\n",
       "      <td>7</td>\n",
       "      <td>The Simple Greek</td>\n",
       "      <td>24</td>\n",
       "      <td>52.5</td>\n",
       "      <td>36</td>\n",
       "      <td>33.3</td>\n",
       "      <td>775</td>\n",
       "      <td>Yes</td>\n",
       "      <td>Blue Bell</td>\n",
       "      <td>Pa.</td>\n",
       "    </tr>\n",
       "    <tr>\n",
       "      <th>7</th>\n",
       "      <td>8</td>\n",
       "      <td>Melt Shop</td>\n",
       "      <td>20</td>\n",
       "      <td>39.6</td>\n",
       "      <td>19</td>\n",
       "      <td>35.7</td>\n",
       "      <td>1260</td>\n",
       "      <td>Yes</td>\n",
       "      <td>New York</td>\n",
       "      <td>N.Y.</td>\n",
       "    </tr>\n",
       "    <tr>\n",
       "      <th>8</th>\n",
       "      <td>9</td>\n",
       "      <td>Creamistry</td>\n",
       "      <td>24</td>\n",
       "      <td>36.8</td>\n",
       "      <td>60</td>\n",
       "      <td>27.7</td>\n",
       "      <td>465</td>\n",
       "      <td>Yes</td>\n",
       "      <td>Yorba Linda</td>\n",
       "      <td>Calif.</td>\n",
       "    </tr>\n",
       "    <tr>\n",
       "      <th>9</th>\n",
       "      <td>10</td>\n",
       "      <td>Joella's Hot Chicken</td>\n",
       "      <td>29</td>\n",
       "      <td>35.5</td>\n",
       "      <td>17</td>\n",
       "      <td>30.8</td>\n",
       "      <td>1930</td>\n",
       "      <td>No</td>\n",
       "      <td>Louisville</td>\n",
       "      <td>Ky.</td>\n",
       "    </tr>\n",
       "  </tbody>\n",
       "</table>\n",
       "</div>"
      ],
      "text/plain": [
       "   Rank            Restaurant  Sales  YOY_Sales (%)  Units  YOY_Units (%)  \\\n",
       "0     1            Evergreens     24          130.5     26          116.7   \n",
       "1     2           Clean Juice     44          121.9    105           94.4   \n",
       "2     3              Slapfish     21           81.0     21           90.9   \n",
       "3     4            Clean Eatz     25           79.7     46           58.6   \n",
       "4     5             Pokeworks     49           77.1     50           56.3   \n",
       "5     6           Playa Bowls     39           62.9     76           28.8   \n",
       "6     7      The Simple Greek     24           52.5     36           33.3   \n",
       "7     8             Melt Shop     20           39.6     19           35.7   \n",
       "8     9            Creamistry     24           36.8     60           27.7   \n",
       "9    10  Joella's Hot Chicken     29           35.5     17           30.8   \n",
       "\n",
       "   Unit_Volume Franchising              City   State  \n",
       "0         1150          No           Seattle   Wash.  \n",
       "1          560         Yes         Charlotte    N.C.  \n",
       "2         1370         Yes  Huntington Beach  Calif.  \n",
       "3          685         Yes        Wilmington    N.C.  \n",
       "4         1210         Yes            Irvine  Calif.  \n",
       "5          580         Yes            Belmar    N.J.  \n",
       "6          775         Yes         Blue Bell     Pa.  \n",
       "7         1260         Yes          New York    N.Y.  \n",
       "8          465         Yes       Yorba Linda  Calif.  \n",
       "9         1930          No        Louisville     Ky.  "
      ]
     },
     "execution_count": 178,
     "metadata": {},
     "output_type": "execute_result"
    }
   ],
   "source": [
    "f50.head(10)"
   ]
  },
  {
   "cell_type": "markdown",
   "metadata": {},
   "source": [
    "To get a general description of the data:"
   ]
  },
  {
   "cell_type": "code",
   "execution_count": 179,
   "metadata": {},
   "outputs": [
    {
     "data": {
      "text/plain": [
       "count    50.000000\n",
       "mean     33.780000\n",
       "std       9.596534\n",
       "min      20.000000\n",
       "25%      24.250000\n",
       "50%      34.500000\n",
       "75%      42.000000\n",
       "max      49.000000\n",
       "Name: Sales, dtype: float64"
      ]
     },
     "execution_count": 179,
     "metadata": {},
     "output_type": "execute_result"
    }
   ],
   "source": [
    "f50['Sales'].describe()"
   ]
  },
  {
   "cell_type": "code",
   "execution_count": 180,
   "metadata": {},
   "outputs": [
    {
     "data": {
      "text/plain": [
       "count     50.000000\n",
       "mean      33.698000\n",
       "std       24.549205\n",
       "min       14.400000\n",
       "25%       20.900000\n",
       "50%       25.500000\n",
       "75%       33.825000\n",
       "max      130.500000\n",
       "Name: YOY_Sales (%), dtype: float64"
      ]
     },
     "execution_count": 180,
     "metadata": {},
     "output_type": "execute_result"
    }
   ],
   "source": [
    "f50['YOY_Sales (%)'].describe()"
   ]
  },
  {
   "cell_type": "code",
   "execution_count": 181,
   "metadata": {},
   "outputs": [
    {
     "data": {
      "text/plain": [
       "count     50.000000\n",
       "mean      34.700000\n",
       "std       24.527577\n",
       "min        7.000000\n",
       "25%       16.000000\n",
       "50%       27.000000\n",
       "75%       45.500000\n",
       "max      105.000000\n",
       "Name: Units, dtype: float64"
      ]
     },
     "execution_count": 181,
     "metadata": {},
     "output_type": "execute_result"
    }
   ],
   "source": [
    "f50['Units'].describe()"
   ]
  },
  {
   "cell_type": "code",
   "execution_count": 182,
   "metadata": {},
   "outputs": [
    {
     "data": {
      "text/plain": [
       "count     50.000000\n",
       "mean      27.446000\n",
       "std       23.231051\n",
       "min        4.000000\n",
       "25%       14.300000\n",
       "50%       19.900000\n",
       "75%       32.675000\n",
       "max      116.700000\n",
       "Name: YOY_Units (%), dtype: float64"
      ]
     },
     "execution_count": 182,
     "metadata": {},
     "output_type": "execute_result"
    }
   ],
   "source": [
    "f50['YOY_Units (%)'].describe()"
   ]
  },
  {
   "cell_type": "code",
   "execution_count": 183,
   "metadata": {},
   "outputs": [
    {
     "data": {
      "text/plain": [
       "count      50.00000\n",
       "mean     1592.60000\n",
       "std       994.67677\n",
       "min       465.00000\n",
       "25%       867.50000\n",
       "50%      1260.00000\n",
       "75%      2020.00000\n",
       "max      4300.00000\n",
       "Name: Unit_Volume, dtype: float64"
      ]
     },
     "execution_count": 183,
     "metadata": {},
     "output_type": "execute_result"
    }
   ],
   "source": [
    "f50['Unit_Volume'].describe()"
   ]
  },
  {
   "cell_type": "code",
   "execution_count": 184,
   "metadata": {},
   "outputs": [
    {
     "data": {
      "text/plain": [
       "count      50\n",
       "unique      2\n",
       "top       Yes\n",
       "freq       29\n",
       "Name: Franchising, dtype: object"
      ]
     },
     "execution_count": 184,
     "metadata": {},
     "output_type": "execute_result"
    }
   ],
   "source": [
    "f50['Franchising'].describe()"
   ]
  },
  {
   "cell_type": "code",
   "execution_count": 185,
   "metadata": {},
   "outputs": [
    {
     "name": "stdout",
     "output_type": "stream",
     "text": [
      "<class 'pandas.core.frame.DataFrame'>\n",
      "RangeIndex: 50 entries, 0 to 49\n",
      "Data columns (total 10 columns):\n",
      " #   Column         Non-Null Count  Dtype  \n",
      "---  ------         --------------  -----  \n",
      " 0   Rank           50 non-null     int64  \n",
      " 1   Restaurant     50 non-null     object \n",
      " 2   Sales          50 non-null     int64  \n",
      " 3   YOY_Sales (%)  50 non-null     float64\n",
      " 4   Units          50 non-null     int64  \n",
      " 5   YOY_Units (%)  50 non-null     float64\n",
      " 6   Unit_Volume    50 non-null     int64  \n",
      " 7   Franchising    50 non-null     object \n",
      " 8   City           50 non-null     object \n",
      " 9   State          50 non-null     object \n",
      "dtypes: float64(2), int64(4), object(4)\n",
      "memory usage: 4.0+ KB\n"
     ]
    }
   ],
   "source": [
    "f50.info()"
   ]
  },
  {
   "cell_type": "markdown",
   "metadata": {},
   "source": [
    "Restaurant Group By:"
   ]
  },
  {
   "cell_type": "code",
   "execution_count": 186,
   "metadata": {},
   "outputs": [
    {
     "data": {
      "text/plain": [
       "Restaurant\n",
       "&pizza                              1\n",
       "Maple Street Biscuit Co.            1\n",
       "Melt Shop                           1\n",
       "Original ChopShop                   1\n",
       "Pita Mediterranean Street Food      1\n",
       "Playa Bowls                         1\n",
       "Pokeworks                           1\n",
       "Quickway Japanese Hibachi           1\n",
       "Rapid Fired Pizza                   1\n",
       "Slapfish                            1\n",
       "Spitz Mediterranean Street Food     1\n",
       "StoneFire Grill                     1\n",
       "Sugarfire Smokehouse                1\n",
       "Super Duper Burgers                 1\n",
       "Surcheros                           1\n",
       "Tacos 4 Life                        1\n",
       "Teriyaki Madness                    1\n",
       "The Flying Biscuit Cafe             1\n",
       "The Human Bean                      1\n",
       "The Little Beet                     1\n",
       "The Lost Cajun                      1\n",
       "The Pizza Press                     1\n",
       "LA Crawfish                         1\n",
       "Just Salad                          1\n",
       "Joella's Hot Chicken                1\n",
       "Joe & The Juice                     1\n",
       "Bibibop Asian Grill                 1\n",
       "Blue Sushi Sake Grill               1\n",
       "Bluestone Lane                      1\n",
       "Boqueria                            1\n",
       "Bubbakoo's Burritos                 1\n",
       "Bulla Gastrobar                     1\n",
       "By Chloe                            1\n",
       "Clean Eatz                          1\n",
       "Clean Juice                         1\n",
       "Condado Tacos                       1\n",
       "The Simple Greek                    1\n",
       "Creamistry                          1\n",
       "Dog Haus                            1\n",
       "Dos Toros Taqueria                  1\n",
       "Duck Donuts                         1\n",
       "Eggs Up Grill                       1\n",
       "Evergreens                          1\n",
       "Famous Toastery                     1\n",
       "Gus's World Famous Fried Chicken    1\n",
       "Hawkers Asian Street Fare           1\n",
       "Ike's Love & Sandwiches             1\n",
       "Jeni's Splendid Ice Creams          1\n",
       "Culinary Dropout                    1\n",
       "Vitality Bowls                      1\n",
       "Name: Restaurant, dtype: int64"
      ]
     },
     "execution_count": 186,
     "metadata": {},
     "output_type": "execute_result"
    }
   ],
   "source": [
    "f50['Restaurant'].groupby(f50['Restaurant']).count().sort_values()"
   ]
  },
  {
   "cell_type": "code",
   "execution_count": 187,
   "metadata": {},
   "outputs": [
    {
     "data": {
      "text/plain": [
       "City\n",
       "Agoura Hills        1\n",
       "Mechanicsburg       1\n",
       "Medford             1\n",
       "Memphis             1\n",
       "Olivette            1\n",
       "Omaha               1\n",
       "Orange Park         1\n",
       "Orlando             1\n",
       "Pasadena            1\n",
       "Plano               1\n",
       "San Ramon           1\n",
       "Scottsdale          1\n",
       "Seattle             1\n",
       "Spartanburg         1\n",
       "Wall Township       1\n",
       "Washington          1\n",
       "Wilmington          1\n",
       "Louisville          1\n",
       "McAllen             1\n",
       "Kettering           1\n",
       "Anaheim             1\n",
       "Atlanta             1\n",
       "Belmar              1\n",
       "Blue Bell           1\n",
       "Conway              1\n",
       "Los Angeles         1\n",
       "Doral               1\n",
       "Denver              1\n",
       "Fairburn            1\n",
       "Fairfax             1\n",
       "Frisco              1\n",
       "Huntington Beach    1\n",
       "Irvine              1\n",
       "Douglas             1\n",
       "Yorba Linda         1\n",
       "San Francisco       2\n",
       "Charlotte           2\n",
       "Columbus            3\n",
       "New York            8\n",
       "Name: City, dtype: int64"
      ]
     },
     "execution_count": 187,
     "metadata": {},
     "output_type": "execute_result"
    }
   ],
   "source": [
    "f50['City'].groupby(f50['City']).count().sort_values()"
   ]
  },
  {
   "cell_type": "code",
   "execution_count": 188,
   "metadata": {},
   "outputs": [
    {
     "data": {
      "text/plain": [
       "State\n",
       "Ariz.      1\n",
       "Tenn.      1\n",
       "S.C.       1\n",
       "Ore.       1\n",
       "Neb.       1\n",
       "Va.        1\n",
       "Mo.        1\n",
       "Wash.      1\n",
       "D.C.       1\n",
       "Colo.      1\n",
       "Ark.       1\n",
       "Ky.        1\n",
       "Pa.        2\n",
       "N.J.       2\n",
       "Ga.        3\n",
       "N.C.       3\n",
       "Fla.       3\n",
       "Texas      3\n",
       "Ohio       4\n",
       "N.Y.       8\n",
       "Calif.    10\n",
       "Name: State, dtype: int64"
      ]
     },
     "execution_count": 188,
     "metadata": {},
     "output_type": "execute_result"
    }
   ],
   "source": [
    "f50['State'].groupby(f50['State']).count().sort_values()"
   ]
  },
  {
   "cell_type": "code",
   "execution_count": 189,
   "metadata": {},
   "outputs": [
    {
     "data": {
      "text/plain": [
       "Franchising\n",
       "No     21\n",
       "Yes    29\n",
       "Name: Franchising, dtype: int64"
      ]
     },
     "execution_count": 189,
     "metadata": {},
     "output_type": "execute_result"
    }
   ],
   "source": [
    "f50['Franchising'].groupby(f50['Franchising']).count().sort_values()"
   ]
  },
  {
   "cell_type": "markdown",
   "metadata": {},
   "source": [
    "Making the Correlation Table and Heatmap:"
   ]
  },
  {
   "cell_type": "code",
   "execution_count": null,
   "metadata": {},
   "outputs": [],
   "source": [
    "f50.corr()"
   ]
  },
  {
   "cell_type": "code",
   "execution_count": 191,
   "metadata": {},
   "outputs": [
    {
     "data": {
      "text/plain": [
       "<AxesSubplot:>"
      ]
     },
     "execution_count": 191,
     "metadata": {},
     "output_type": "execute_result"
    },
    {
     "data": {
      "image/png": "[encoded data removed]",
      "text/plain": [
       "<Figure size 432x288 with 2 Axes>"
      ]
     },
     "metadata": {
      "needs_background": "light"
     },
     "output_type": "display_data"
    }
   ],
   "source": [
    "sns.heatmap(f50.corr())"
   ]
  },
  {
   "cell_type": "markdown",
   "metadata": {},
   "source": [
    "Getting Distributions:"
   ]
  },
  {
   "cell_type": "code",
   "execution_count": 192,
   "metadata": {},
   "outputs": [
    {
     "data": {
      "text/plain": [
       "<seaborn.axisgrid.FacetGrid at 0x220dfb8bac0>"
      ]
     },
     "execution_count": 192,
     "metadata": {},
     "output_type": "execute_result"
    },
    {
     "data": {
      "image/png": "[encoded data removed]",
      "text/plain": [
       "<Figure size 360x360 with 1 Axes>"
      ]
     },
     "metadata": {
      "needs_background": "light"
     },
     "output_type": "display_data"
    }
   ],
   "source": [
    "sns.displot(f50.Sales,color='blue', bins=25,kde=True)"
   ]
  },
  {
   "cell_type": "code",
   "execution_count": 193,
   "metadata": {},
   "outputs": [
    {
     "data": {
      "text/plain": [
       "<seaborn.axisgrid.FacetGrid at 0x220dfaa04f0>"
      ]
     },
     "execution_count": 193,
     "metadata": {},
     "output_type": "execute_result"
    },
    {
     "data": {
      "image/png": "[encoded data removed]",
      "text/plain": [
       "<Figure size 360x360 with 1 Axes>"
      ]
     },
     "metadata": {
      "needs_background": "light"
     },
     "output_type": "display_data"
    }
   ],
   "source": [
    "sns.displot(f50['YOY_Sales (%)'],color='red', bins=25,kde=True)"
   ]
  },
  {
   "cell_type": "code",
   "execution_count": 194,
   "metadata": {},
   "outputs": [
    {
     "data": {
      "text/plain": [
       "<seaborn.axisgrid.FacetGrid at 0x220de6e50d0>"
      ]
     },
     "execution_count": 194,
     "metadata": {},
     "output_type": "execute_result"
    },
    {
     "data": {
      "image/png": "[encoded data removed]",
      "text/plain": [
       "<Figure size 360x360 with 1 Axes>"
      ]
     },
     "metadata": {
      "needs_background": "light"
     },
     "output_type": "display_data"
    }
   ],
   "source": [
    "sns.displot(f50['YOY_Units (%)'],color='green', bins=25,kde=True)"
   ]
  },
  {
   "cell_type": "code",
   "execution_count": 195,
   "metadata": {},
   "outputs": [
    {
     "data": {
      "text/plain": [
       "<seaborn.axisgrid.FacetGrid at 0x220e12c2f70>"
      ]
     },
     "execution_count": 195,
     "metadata": {},
     "output_type": "execute_result"
    },
    {
     "data": {
      "image/png": "[encoded data removed]",
      "text/plain": [
       "<Figure size 360x360 with 1 Axes>"
      ]
     },
     "metadata": {
      "needs_background": "light"
     },
     "output_type": "display_data"
    }
   ],
   "source": [
    "sns.displot(f50['Unit_Volume'],color='purple', bins=25,kde=True)"
   ]
  },
  {
   "cell_type": "code",
   "execution_count": 196,
   "metadata": {},
   "outputs": [
    {
     "data": {
      "text/plain": [
       "<seaborn.axisgrid.FacetGrid at 0x220e1347b20>"
      ]
     },
     "execution_count": 196,
     "metadata": {},
     "output_type": "execute_result"
    },
    {
     "data": {
      "image/png": "[encoded data removed]",
      "text/plain": [
       "<Figure size 360x360 with 1 Axes>"
      ]
     },
     "metadata": {
      "needs_background": "light"
     },
     "output_type": "display_data"
    }
   ],
   "source": [
    "sns.displot(f50['Units'],color='orange', bins=25,kde=True)"
   ]
  },
  {
   "cell_type": "markdown",
   "metadata": {},
   "source": [
    "Forming a scattplot showcasing YOY_Sales/Units in Franchises vs Non-Franchises."
   ]
  },
  {
   "cell_type": "code",
   "execution_count": 197,
   "metadata": {},
   "outputs": [],
   "source": [
    "franchise = f50.query(\"Franchising == 'Yes'\")\n",
    "notfranchise = f50.query(\"Franchising == 'No'\")"
   ]
  },
  {
   "cell_type": "code",
   "execution_count": 198,
   "metadata": {},
   "outputs": [
    {
     "data": {
      "text/plain": [
       "<AxesSubplot:xlabel='YOY_Sales (%)', ylabel='YOY_Units (%)'>"
      ]
     },
     "execution_count": 198,
     "metadata": {},
     "output_type": "execute_result"
    },
    {
     "data": {
      "image/png": "[encoded data removed]",
      "text/plain": [
       "<Figure size 432x288 with 1 Axes>"
      ]
     },
     "metadata": {
      "needs_background": "light"
     },
     "output_type": "display_data"
    }
   ],
   "source": [
    "franchise.plot.scatter(x=\"YOY_Sales (%)\",y=\"YOY_Units (%)\")"
   ]
  },
  {
   "cell_type": "code",
   "execution_count": 199,
   "metadata": {},
   "outputs": [
    {
     "data": {
      "text/plain": [
       "<AxesSubplot:xlabel='YOY_Sales (%)', ylabel='YOY_Units (%)'>"
      ]
     },
     "execution_count": 199,
     "metadata": {},
     "output_type": "execute_result"
    },
    {
     "data": {
      "image/png": "[encoded data removed]",
      "text/plain": [
       "<Figure size 432x288 with 1 Axes>"
      ]
     },
     "metadata": {
      "needs_background": "light"
     },
     "output_type": "display_data"
    }
   ],
   "source": [
    "notfranchise.plot.scatter(x=\"YOY_Sales (%)\",y=\"YOY_Units (%)\", color='red')"
   ]
  },
  {
   "cell_type": "code",
   "execution_count": 200,
   "metadata": {},
   "outputs": [
    {
     "data": {
      "image/png": "[encoded data removed]",
      "text/plain": [
       "<Figure size 432x288 with 1 Axes>"
      ]
     },
     "metadata": {
      "needs_background": "light"
     },
     "output_type": "display_data"
    }
   ],
   "source": [
    "fig1 = plt.figure()\n",
    "ax1 = fig1.add_subplot(111)\n",
    "\n",
    "ax1.scatter(franchise['YOY_Sales (%)'], franchise['YOY_Units (%)'],s=10, c='b', marker=\"s\", label='Franchise')\n",
    "ax1.scatter(notfranchise['YOY_Sales (%)'],notfranchise['YOY_Units (%)'], s=10, c='r', marker=\"o\", label='Not Franchise')\n",
    "plt.legend(loc='upper left');\n",
    "plt.show()"
   ]
  },
  {
   "cell_type": "markdown",
   "metadata": {},
   "source": [
    "Scattplot of Sales vs Units"
   ]
  },
  {
   "cell_type": "code",
   "execution_count": 223,
   "metadata": {},
   "outputs": [
    {
     "data": {
      "text/plain": [
       "<AxesSubplot:xlabel='Sales', ylabel='Units'>"
      ]
     },
     "execution_count": 223,
     "metadata": {},
     "output_type": "execute_result"
    },
    {
     "data": {
      "image/png": "[encoded data removed]",
      "text/plain": [
       "<Figure size 432x288 with 1 Axes>"
      ]
     },
     "metadata": {
      "needs_background": "light"
     },
     "output_type": "display_data"
    }
   ],
   "source": [
    "f50.plot.scatter(x=\"Sales\",y=\"Units\")"
   ]
  },
  {
   "cell_type": "markdown",
   "metadata": {},
   "source": [
    "Sales Boxplot"
   ]
  },
  {
   "cell_type": "code",
   "execution_count": 206,
   "metadata": {},
   "outputs": [
    {
     "data": {
      "image/png": "[encoded data removed]",
      "text/plain": [
       "<Figure size 432x288 with 1 Axes>"
      ]
     },
     "metadata": {
      "needs_background": "light"
     },
     "output_type": "display_data"
    }
   ],
   "source": [
    "bxt = f50.boxplot(column = 'Sales')\n",
    "bxt.set_title('Top 50 Sales Boxplot')\n",
    "bxt.grid(False)"
   ]
  },
  {
   "cell_type": "markdown",
   "metadata": {},
   "source": [
    "State and City Bargraphs"
   ]
  },
  {
   "cell_type": "code",
   "execution_count": 207,
   "metadata": {},
   "outputs": [
    {
     "data": {
      "text/plain": [
       "State\n",
       "Ariz.      1\n",
       "Ark.       1\n",
       "Calif.    10\n",
       "Colo.      1\n",
       "D.C.       1\n",
       "Fla.       3\n",
       "Ga.        3\n",
       "Ky.        1\n",
       "Mo.        1\n",
       "N.C.       3\n",
       "N.J.       2\n",
       "N.Y.       8\n",
       "Neb.       1\n",
       "Ohio       4\n",
       "Ore.       1\n",
       "Pa.        2\n",
       "S.C.       1\n",
       "Tenn.      1\n",
       "Texas      3\n",
       "Va.        1\n",
       "Wash.      1\n",
       "Name: State, dtype: int64"
      ]
     },
     "execution_count": 207,
     "metadata": {},
     "output_type": "execute_result"
    }
   ],
   "source": [
    "statepop = f50['State'].groupby(f50['State']).count()\n",
    "statepop"
   ]
  },
  {
   "cell_type": "code",
   "execution_count": 211,
   "metadata": {},
   "outputs": [
    {
     "data": {
      "text/plain": [
       "<AxesSubplot:xlabel='States', ylabel='Number of Restaurants'>"
      ]
     },
     "execution_count": 211,
     "metadata": {},
     "output_type": "execute_result"
    },
    {
     "data": {
      "image/png": "[encoded data removed]",
      "text/plain": [
       "<Figure size 864x432 with 1 Axes>"
      ]
     },
     "metadata": {
      "needs_background": "light"
     },
     "output_type": "display_data"
    }
   ],
   "source": [
    "statepop.sort_values(ascending=False).plot(kind=\"bar\",xlabel=\"States\",ylabel='Number of Restaurants',figsize=(12,6))"
   ]
  },
  {
   "cell_type": "code",
   "execution_count": 220,
   "metadata": {},
   "outputs": [
    {
     "data": {
      "text/plain": [
       "City\n",
       "Agoura Hills        1\n",
       "Anaheim             1\n",
       "Atlanta             1\n",
       "Belmar              1\n",
       "Blue Bell           1\n",
       "Charlotte           2\n",
       "Columbus            3\n",
       "Conway              1\n",
       "Denver              1\n",
       "Doral               1\n",
       "Douglas             1\n",
       "Fairburn            1\n",
       "Fairfax             1\n",
       "Frisco              1\n",
       "Huntington Beach    1\n",
       "Irvine              1\n",
       "Kettering           1\n",
       "Los Angeles         1\n",
       "Louisville          1\n",
       "McAllen             1\n",
       "Mechanicsburg       1\n",
       "Medford             1\n",
       "Memphis             1\n",
       "New York            8\n",
       "Olivette            1\n",
       "Omaha               1\n",
       "Orange Park         1\n",
       "Orlando             1\n",
       "Pasadena            1\n",
       "Plano               1\n",
       "San Francisco       2\n",
       "San Ramon           1\n",
       "Scottsdale          1\n",
       "Seattle             1\n",
       "Spartanburg         1\n",
       "Wall Township       1\n",
       "Washington          1\n",
       "Wilmington          1\n",
       "Yorba Linda         1\n",
       "Name: City, dtype: int64"
      ]
     },
     "execution_count": 220,
     "metadata": {},
     "output_type": "execute_result"
    }
   ],
   "source": [
    "citypop = f50['City'].groupby(f50['City']).count()\n",
    "citypop"
   ]
  },
  {
   "cell_type": "code",
   "execution_count": 221,
   "metadata": {},
   "outputs": [
    {
     "data": {
      "text/plain": [
       "<AxesSubplot:xlabel='Cities', ylabel='Number of Restaurants'>"
      ]
     },
     "execution_count": 221,
     "metadata": {},
     "output_type": "execute_result"
    },
    {
     "data": {
      "image/png": "[encoded data removed]",
      "text/plain": [
       "<Figure size 864x432 with 1 Axes>"
      ]
     },
     "metadata": {
      "needs_background": "light"
     },
     "output_type": "display_data"
    }
   ],
   "source": [
    "citypop.sort_values(ascending=False).plot(kind=\"bar\",xlabel=\"Cities\",ylabel='Number of Restaurants',figsize=(12,6))"
   ]
  },
  {
   "cell_type": "markdown",
   "metadata": {},
   "source": [
    "Pie Chart:"
   ]
  },
  {
   "cell_type": "code",
   "execution_count": 219,
   "metadata": {},
   "outputs": [
    {
     "data": {
      "image/png": "[encoded data removed]",
      "text/plain": [
       "<Figure size 432x288 with 1 Axes>"
      ]
     },
     "metadata": {},
     "output_type": "display_data"
    }
   ],
   "source": [
    "franch=f50['Franchising'].groupby(f50['Franchising']).count().sort_values()\n",
    "labellist = 'Not Franchise', 'Franchise'\n",
    "fig2, ax1 = plt.subplots()\n",
    "ax1.pie(franch,labels=labellist,autopct='%1.1f%%',\n",
    "        shadow=True, startangle=90)\n",
    "ax1.axis('equal')\n",
    "\n",
    "plt.show()"
   ]
  }
 ],
 "metadata": {
  "kernelspec": {
   "display_name": "Python 3",
   "language": "python",
   "name": "python3"
  },
  "language_info": {
   "codemirror_mode": {
    "name": "ipython",
    "version": 3
   },
   "file_extension": ".py",
   "mimetype": "text/x-python",
   "name": "python",
   "nbconvert_exporter": "python",
   "pygments_lexer": "ipython3",
   "version": "3.8.5"
  }
 },
 "nbformat": 4,
 "nbformat_minor": 4
}
